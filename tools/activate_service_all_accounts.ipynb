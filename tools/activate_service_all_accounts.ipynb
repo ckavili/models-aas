{
 "cells": [
  {
   "cell_type": "markdown",
   "id": "ffce1749",
   "metadata": {},
   "source": [
    "# New Service subscription for all Accounts\n",
    "\n",
    "This is an automation of the method described in the notebook `activate_service.ipynb`."
   ]
  },
  {
   "cell_type": "markdown",
   "id": "c26cc0a7",
   "metadata": {},
   "source": [
    "### Init"
   ]
  },
  {
   "cell_type": "code",
   "execution_count": null,
   "id": "67bc3397-945f-4c6b-8534-83b69d5069af",
   "metadata": {},
   "outputs": [],
   "source": [
    "import activate_service_functions as asf"
   ]
  },
  {
   "cell_type": "markdown",
   "id": "94d0448b-4ea3-45f2-9f85-53371228d3d2",
   "metadata": {},
   "source": [
    "### Get the Accounts\n",
    "\n",
    "Note: those are organization accounts, not user accounts within an organization"
   ]
  },
  {
   "cell_type": "code",
   "execution_count": null,
   "id": "00ac99e9-c73e-486e-89b2-f3666c3aee58",
   "metadata": {
    "jupyter": {
     "source_hidden": true
    }
   },
   "outputs": [],
   "source": [
    "accounts = asf.get_accounts()\n",
    "\n",
    "print(f\"{len(accounts['accounts']['account'])} accounts found\")"
   ]
  },
  {
   "cell_type": "code",
   "execution_count": null,
   "id": "b33395a0-4b5b-43f0-a400-d0bb2e25255a",
   "metadata": {
    "collapsed": true,
    "jupyter": {
     "outputs_hidden": true,
     "source_hidden": true
    },
    "scrolled": true
   },
   "outputs": [],
   "source": [
    "# Display a specific account\n",
    "print(accounts[\"accounts\"][\"account\"][1])"
   ]
  },
  {
   "cell_type": "markdown",
   "id": "9b7601e8-d84b-4cfd-b8f9-d18dcd3bc014",
   "metadata": {},
   "source": [
    "### Get the Services"
   ]
  },
  {
   "cell_type": "code",
   "execution_count": null,
   "id": "0b859bfe-7017-4c8d-a10e-da90c90c85d3",
   "metadata": {
    "jupyter": {
     "source_hidden": true
    }
   },
   "outputs": [],
   "source": [
    "services = asf.get_services()\n",
    "\n",
    "print(f\"{len(services['services']['service'])} services found\")"
   ]
  },
  {
   "cell_type": "code",
   "execution_count": null,
   "id": "627092ce-02d1-4f32-b7e0-e9602cea5d6d",
   "metadata": {
    "collapsed": true,
    "jupyter": {
     "outputs_hidden": true,
     "source_hidden": true
    }
   },
   "outputs": [],
   "source": [
    "# Display available Services    \n",
    "for service in services[\"services\"][\"service\"]:\n",
    "    print(f\"Service id: {service['id']}\")\n",
    "    print(f\"Service name: {service['name']}\")\n",
    "    print(\"---\")"
   ]
  },
  {
   "cell_type": "code",
   "execution_count": null,
   "id": "0e66c3e3-7d6c-4266-9e62-21a35e348682",
   "metadata": {},
   "outputs": [],
   "source": [
    "# Set the Service to use in the next requests\n",
    "service_id = 15 # Granite Guardian 3.1 2B"
   ]
  },
  {
   "cell_type": "markdown",
   "id": "a1c0e282-7275-4996-8de5-e60e7313e2f8",
   "metadata": {},
   "source": [
    "### Get the Service Plans\n",
    "\n",
    "We need the Service Plan id to use when creating a dummy application."
   ]
  },
  {
   "cell_type": "code",
   "execution_count": null,
   "id": "222a0718-10a1-4be7-bf55-cfcf27848168",
   "metadata": {},
   "outputs": [],
   "source": [
    "plans = asf.get_service_plans()\n",
    "\n",
    "print(f\"{len(plans['plans']['plan'])} application plans found\")"
   ]
  },
  {
   "cell_type": "code",
   "execution_count": null,
   "id": "7c526439-6322-4a5c-86ff-5c3ac3c3ecbb",
   "metadata": {
    "collapsed": true,
    "jupyter": {
     "outputs_hidden": true,
     "source_hidden": true
    }
   },
   "outputs": [],
   "source": [
    "# Display available Plans\n",
    "for plan in plans[\"plans\"][\"plan\"]:\n",
    "    print(f\"Plan id: {plan['id']}\")\n",
    "    print(f\"Plan name: {plan['name']}\")\n",
    "    print(f\"Service id: {plan['service_id']}\")\n",
    "    print(\"---\")"
   ]
  },
  {
   "cell_type": "code",
   "execution_count": null,
   "id": "12f01cdf-4acd-4eb6-a0ff-dd29368dc1fe",
   "metadata": {},
   "outputs": [],
   "source": [
    "# Set the Plan to use in the next requests\n",
    "plan_id = asf.get_service_plan_by_service_id(plans, service_id)\n",
    "\n",
    "print(f\"Plan id: {plan_id}\")"
   ]
  },
  {
   "cell_type": "markdown",
   "id": "753c5c97",
   "metadata": {},
   "source": [
    "### Subscribe all accounts to selected Service/Plan"
   ]
  },
  {
   "cell_type": "code",
   "execution_count": null,
   "id": "0d38f246",
   "metadata": {},
   "outputs": [],
   "source": [
    "print(f\"plan_id: {plan_id}\")\n",
    "for account in accounts[\"accounts\"][\"account\"]:\n",
    "    try:\n",
    "        account_id = int(account[\"id\"])\n",
    "        application_id = int(asf.create_dummy_application(account_id, plan_id))\n",
    "        response = asf.delete_application(account_id, application_id)\n",
    "        if response.status_code == 200:\n",
    "            print(f\"Account {account_id} subscribed!\")\n",
    "        else:\n",
    "            print(f\"Error deleting application {application_id} for account {account_id}\")\n",
    "            print(response.content)\n",
    "    except Exception as e:\n",
    "        print(f\"Error creating application for account {account_id}\")\n",
    "        print(e)\n",
    "        continue"
   ]
  }
 ],
 "metadata": {
  "kernelspec": {
   "display_name": ".venv",
   "language": "python",
   "name": "python3"
  },
  "language_info": {
   "codemirror_mode": {
    "name": "ipython",
    "version": 3
   },
   "file_extension": ".py",
   "mimetype": "text/x-python",
   "name": "python",
   "nbconvert_exporter": "python",
   "pygments_lexer": "ipython3",
   "version": "3.12.9"
  }
 },
 "nbformat": 4,
 "nbformat_minor": 5
}
